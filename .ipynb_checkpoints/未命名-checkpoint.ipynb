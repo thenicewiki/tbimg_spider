{
 "cells": [
  {
   "cell_type": "code",
   "execution_count": 22,
   "metadata": {},
   "outputs": [
    {
     "name": "stdout",
     "output_type": "stream",
     "text": [
      "https://tieba.baidu.com/p/5080413304\n",
      "https://tieba.baidu.com/p/5080413304\n",
      "https://tieba.baidu.com/p/5080413304\n",
      "https://tieba.baidu.com/p/5080413304\n",
      "https://tieba.baidu.com/p/5080413304\n",
      "https://tieba.baidu.com/p/5080413304\n",
      "https://tieba.baidu.com/p/5080413304\n",
      "https://tieba.baidu.com/p/5080413304\n",
      "https://tieba.baidu.com/p/5080413304\n",
      "https://tieba.baidu.com/p/5080413304\n",
      "\n"
     ]
    },
    {
     "data": {
      "text/plain": [
       "['https://tieba.baidu.com/p/5080413304',\n",
       " 'https://tieba.baidu.com/p/5080413304',\n",
       " 'https://tieba.baidu.com/p/5080413304',\n",
       " 'https://tieba.baidu.com/p/5080413304',\n",
       " 'https://tieba.baidu.com/p/5080413304',\n",
       " 'https://tieba.baidu.com/p/5080413304',\n",
       " 'https://tieba.baidu.com/p/5080413304',\n",
       " 'https://tieba.baidu.com/p/5080413304',\n",
       " 'https://tieba.baidu.com/p/5080413304',\n",
       " 'https://tieba.baidu.com/p/5080413304']"
      ]
     },
     "execution_count": 22,
     "metadata": {},
     "output_type": "execute_result"
    }
   ],
   "source": [
    "import re\n",
    "\n",
    "# links = \"https://tieba.baidu.com/p/5080409j304,https://tieba.baidu.com/p/5080413304,https://tieba.baidu.com/p/5080413304,https://tieba.baidu.com/p/5080413304,https://tieba.baidu.com/p/5080413304,\"\n",
    "# link = \"https://tieba.baidu.com/p/5080413304?pn=1\" # 页码\n",
    "url = []\n",
    "\n",
    "fo = open(\"hello.txt\", \"r+\")\n",
    "links = fo.read()\n",
    "\n",
    "fo.close()\n",
    "\n",
    "html = links\n",
    "print(html)\n",
    "url = re.findall(\"(https.+?)\\s\", html)\n",
    "\n",
    "\n",
    "url"
   ]
  },
  {
   "cell_type": "code",
   "execution_count": null,
   "metadata": {},
   "outputs": [],
   "source": []
  },
  {
   "cell_type": "code",
   "execution_count": null,
   "metadata": {},
   "outputs": [],
   "source": []
  }
 ],
 "metadata": {
  "kernelspec": {
   "display_name": "Python 3",
   "language": "python",
   "name": "python3"
  },
  "language_info": {
   "codemirror_mode": {
    "name": "ipython",
    "version": 3
   },
   "file_extension": ".py",
   "mimetype": "text/x-python",
   "name": "python",
   "nbconvert_exporter": "python",
   "pygments_lexer": "ipython3",
   "version": "3.9.0"
  }
 },
 "nbformat": 4,
 "nbformat_minor": 4
}
